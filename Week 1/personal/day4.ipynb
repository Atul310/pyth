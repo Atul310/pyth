{
 "cells": [
  {
   "cell_type": "markdown",
   "metadata": {},
   "source": [
    "+ Data Types\n",
    "+ List \n",
    "+ tupples\n"
   ]
  },
  {
   "cell_type": "code",
   "execution_count": 2,
   "metadata": {},
   "outputs": [
    {
     "name": "stdout",
     "output_type": "stream",
     "text": [
      "['shady', 'atul', 2, 'No']\n",
      "1\n",
      "['s', 2, 3]\n",
      "['s', 20, 3]\n"
     ]
    }
   ],
   "source": [
    "#List are the collection of different or similar data types\n",
    "# List are dyanamic We can add list in run time \n",
    "# list are mutable\n",
    "# Mutabilitiy means we can change add , takeout value in runtime \n",
    "\n",
    "Name = [\"shady\",\"atul\",2,\"No\"]\n",
    "print(Name)\n",
    "av=[\"s\",2,3]\n",
    "print(av.index(2))\n",
    "print(av)\n",
    "av[1]=20\n",
    "print(av)\n",
    "#print(av.remove(1))"
   ]
  },
  {
   "cell_type": "markdown",
   "metadata": {},
   "source": [
    "+ Mutable ==>> Those objects whose state can be modified after they are created\n",
    "+ imumutable ==>> Those objects whose state cannot  be modified after they are created\n",
    "+ String are immutable "
   ]
  },
  {
   "cell_type": "code",
   "execution_count": 12,
   "metadata": {},
   "outputs": [
    {
     "name": "stdout",
     "output_type": "stream",
     "text": [
      "At on co do\n"
     ]
    }
   ],
   "source": [
    "# String are always immutable \n",
    "#We have to redeclare the string again to change the string \n",
    "#like \n",
    "name = \"At \"\n",
    "#name = name,\"on\",\"is ok\" # This is different \n",
    "#print(name)\n",
    "name = name + \"on \" + \"co \"+ \"do\" #  This is also different\n",
    "print(name)"
   ]
  },
  {
   "cell_type": "markdown",
   "metadata": {},
   "source": [
    " + Tupples\n",
    " + Just like list but Tupples are immutable\n",
    "\n"
   ]
  },
  {
   "cell_type": "code",
   "execution_count": null,
   "metadata": {},
   "outputs": [],
   "source": [
    "# Tuples cannot be changed \n",
    "#we cannot change tupples once declared \n",
    "# storage \n"
   ]
  },
  {
   "cell_type": "code",
   "execution_count": 10,
   "metadata": {},
   "outputs": [
    {
     "name": "stdout",
     "output_type": "stream",
     "text": [
      "0 shady\n",
      "1 2\n",
      "2 3\n",
      "3 8\n"
     ]
    }
   ],
   "source": [
    "#looping through list \n",
    "# for i in range (low,high):\n",
    "# print(i) #//for basic number theory problems\n",
    "# for i in ange (len(lst)):\n",
    "#print(lst(i))\n",
    "lista = [\"shady\",2,3,8]\n",
    "#for l in lista: #lista is also a looping variable here \n",
    "   # print(l)\n",
    "    # to print index and the value at same time wwe use \n",
    "    # @ enumerate keyword \n",
    "for index, l in enumerate(lista):\n",
    "    print(index,l)\n",
    "\n"
   ]
  },
  {
   "cell_type": "code",
   "execution_count": 11,
   "metadata": {},
   "outputs": [
    {
     "name": "stdout",
     "output_type": "stream",
     "text": [
      "history,maths,Art\n"
     ]
    }
   ],
   "source": [
    "# Convert our list into string by using .join() method\n",
    "course = [\"history\",\"maths\",\"Art\"]\n",
    "course_into_String=\",\".join(course) # \",\" used for comma seperated value\n",
    "\n",
    "print(course_into_String)"
   ]
  },
  {
   "cell_type": "code",
   "execution_count": 18,
   "metadata": {},
   "outputs": [
    {
     "ename": "SyntaxError",
     "evalue": "incomplete input (2818395025.py, line 9)",
     "output_type": "error",
     "traceback": [
      "\u001b[1;36m  Cell \u001b[1;32mIn[18], line 9\u001b[1;36m\u001b[0m\n\u001b[1;33m    #print(index,l)\u001b[0m\n\u001b[1;37m                   ^\u001b[0m\n\u001b[1;31mSyntaxError\u001b[0m\u001b[1;31m:\u001b[0m incomplete input\n"
     ]
    }
   ],
   "source": [
    "# Tuples \n",
    "Tupple_1 =(1,2,3,3,[])\n",
    "#print(Tupple_1)\n",
    "#Tupple_1[0]=\"atul\"\n",
    "print(Tupple_1)\n",
    "for l in Tupple_1:\n",
    "   # print(Tupple_1) #==>> It will print the tupple \n",
    "#for index,l in enumerate(Tupple_1): \n",
    "    #print(index,l)"
   ]
  }
 ],
 "metadata": {
  "kernelspec": {
   "display_name": "Python 3.10.4 64-bit",
   "language": "python",
   "name": "python3"
  },
  "language_info": {
   "codemirror_mode": {
    "name": "ipython",
    "version": 3
   },
   "file_extension": ".py",
   "mimetype": "text/x-python",
   "name": "python",
   "nbconvert_exporter": "python",
   "pygments_lexer": "ipython3",
   "version": "3.10.4"
  },
  "orig_nbformat": 4,
  "vscode": {
   "interpreter": {
    "hash": "e027e9b9823ce6a9e0c9c877d53cd04ce062ace5f211db67d7ec11968ca34bb0"
   }
  }
 },
 "nbformat": 4,
 "nbformat_minor": 2
}
