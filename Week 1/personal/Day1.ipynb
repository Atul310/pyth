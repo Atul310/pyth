{
 "cells": [
  {
   "cell_type": "code",
   "execution_count": 1,
   "metadata": {},
   "outputs": [
    {
     "name": "stdout",
     "output_type": "stream",
     "text": [
      "ok\n"
     ]
    }
   ],
   "source": [
    "print(\"ok\")"
   ]
  },
  {
   "cell_type": "markdown",
   "metadata": {},
   "source": [
    "Taking Input // Also variables and data types ==>>\n",
    "Variable are the container to hold the data in it through computer memory \n"
   ]
  },
  {
   "cell_type": "code",
   "execution_count": 7,
   "metadata": {},
   "outputs": [
    {
     "name": "stdout",
     "output_type": "stream",
     "text": [
      "your age is 13 <class 'int'>\n"
     ]
    }
   ],
   "source": [
    "Ab = input(\"tel ya age\") # Ab is the variable\n",
    "# Taking input gives output in the form of string  ,so to change it in the form of integer \n",
    "# We do Conversion by in\n",
    "age = int(Ab)\n",
    "print(\"your age is\",age,type(age)) # here(,) com"
   ]
  },
  {
   "cell_type": "markdown",
   "metadata": {},
   "source": [
    "Data Type conversion"
   ]
  },
  {
   "cell_type": "code",
   "execution_count": 10,
   "metadata": {},
   "outputs": [
    {
     "name": "stdout",
     "output_type": "stream",
     "text": [
      "Your age is  15 <class 'int'>\n"
     ]
    }
   ],
   "source": [
    "age = input(\"Give input age\") # Input is taken in the form of string \n",
    "#We have to do the data type conversion from string to integer by\n",
    "# int(Input_Variable_Name\n",
    "ageA = int(age)\n",
    "print(\"Your age is \",ageA,type(ageA))"
   ]
  },
  {
   "cell_type": "markdown",
   "metadata": {},
   "source": [
    "Two different data types cannot be concat internally"
   ]
  },
  {
   "cell_type": "code",
   "execution_count": 15,
   "metadata": {},
   "outputs": [
    {
     "name": "stdout",
     "output_type": "stream",
     "text": [
      "hello Ok\n",
      "18\n",
      "1\n",
      "2\n",
      "0\n",
      "1\n",
      "0\n",
      "1\n"
     ]
    }
   ],
   "source": [
    "#print (\"hello\"+9) error \n",
    "print(\"hello \"+ \"Ok\")\n",
    "print(9+9)\n",
    "print (True + False)\n",
    "print (True + True)\n",
    "print (False + False)\n",
    "print (False+ True) # Or operation \n",
    "print (True * False) #and operation \n",
    "print (True * True)"
   ]
  },
  {
   "cell_type": "code",
   "execution_count": 25,
   "metadata": {},
   "outputs": [
    {
     "name": "stdout",
     "output_type": "stream",
     "text": [
      "hello\thello\thello\t\n",
      "!ok\n",
      "!ok\n",
      "!ok\n",
      "\n"
     ]
    }
   ],
   "source": [
    "print(\"hello\\t\"*3)\n",
    "print(\"!ok\\n\"*3)\n"
   ]
  },
  {
   "cell_type": "markdown",
   "metadata": {},
   "source": [
    "Integer to string \n",
    "str(Variable_name)\n"
   ]
  },
  {
   "cell_type": "code",
   "execution_count": 19,
   "metadata": {},
   "outputs": [
    {
     "name": "stdout",
     "output_type": "stream",
     "text": [
      "<class 'int'>\n",
      "<class 'str'>\n"
     ]
    }
   ],
   "source": [
    "age =18\n",
    "print(type(age)) # With same variable name it is not easy to convert \n",
    "Ags = str(age) # Taking another variable \n",
    "print(type(Ags))"
   ]
  }
 ],
 "metadata": {
  "kernelspec": {
   "display_name": "Python 3.10.4 64-bit",
   "language": "python",
   "name": "python3"
  },
  "language_info": {
   "codemirror_mode": {
    "name": "ipython",
    "version": 3
   },
   "file_extension": ".py",
   "mimetype": "text/x-python",
   "name": "python",
   "nbconvert_exporter": "python",
   "pygments_lexer": "ipython3",
   "version": "3.10.4"
  },
  "orig_nbformat": 4,
  "vscode": {
   "interpreter": {
    "hash": "e027e9b9823ce6a9e0c9c877d53cd04ce062ace5f211db67d7ec11968ca34bb0"
   }
  }
 },
 "nbformat": 4,
 "nbformat_minor": 2
}
