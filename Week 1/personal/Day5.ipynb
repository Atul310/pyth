{
 "cells": [
  {
   "attachments": {},
   "cell_type": "markdown",
   "metadata": {},
   "source": [
    "+ Dictionary\n"
   ]
  },
  {
   "cell_type": "code",
   "execution_count": null,
   "metadata": {},
   "outputs": [],
   "source": [
    "# Dictionary are the unorderd collection of items \n",
    "# stored in key valued pairs just like hash map and associative array in other p lang\n",
    "# dictionary provide wide variey of manupulation of data .\n",
    "#Synatax\n",
    "\n",
    "person1 = {\n",
    "\"Name\": \"Something\",\n",
    "\"Gendere\" : \"male\",\n",
    "\"age\" : 21,\n",
    "}\n",
    "#print(person1) ##==>> Accessing the whole Dictionary\n",
    "print(person1[\"Name\"]) #Accesing the value with keys \n"
   ]
  },
  {
   "cell_type": "code",
   "execution_count": null,
   "metadata": {},
   "outputs": [],
   "source": [
    "# Loop through \n",
    "for index,person1 in enumerate(person1):\n",
    "    print(index,person1)\n",
    "\n"
   ]
  }
 ],
 "metadata": {
  "language_info": {
   "name": "python"
  },
  "orig_nbformat": 4
 },
 "nbformat": 4,
 "nbformat_minor": 2
}
