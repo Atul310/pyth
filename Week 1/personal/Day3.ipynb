{
 "cells": [
  {
   "cell_type": "markdown",
   "metadata": {},
   "source": [
    "Guessing Game \n"
   ]
  },
  {
   "cell_type": "code",
   "execution_count": 1,
   "metadata": {},
   "outputs": [
    {
     "name": "stdout",
     "output_type": "stream",
     "text": [
      "8\n"
     ]
    }
   ],
   "source": [
    "#generate a  random module \n",
    "#  user input function (Create a loop)\n",
    "#  \n",
    "# Take input from the users\n",
    "# compare the number \n",
    "# lower ==> the number is lower \n",
    "#\n",
    "# We use a laibr\n",
    "# ary called random import \n",
    "import random\n",
    "\n",
    "Random_N =random.randint(1,10)\n",
    "guess = int\n",
    "# Generating random number from(random.randit)function between 2 integer  \n",
    "    \n",
    "# Ctrl + [] ==>> LEft right intendentation "
   ]
  },
  {
   "cell_type": "markdown",
   "metadata": {},
   "source": [
    " + Use of underscore _  \n",
    " + for _ in range () \n",
    " + when there is no use of counter variable  like (i) is the counter variable in most cases\n",
    " + { or the variable is not in use } \n",
    "+  We use underscore "
   ]
  },
  {
   "cell_type": "code",
   "execution_count": 1,
   "metadata": {},
   "outputs": [
    {
     "name": "stdout",
     "output_type": "stream",
     "text": [
      "Guess a numeber between 1 and 10\n",
      "you have 3 tries remaining\n",
      "Guess a numeber between 1 and 10\n",
      "you have 2 tries remaining\n",
      "Guess a numeber between 1 and 10\n",
      "you have 1 tries remaining\n",
      "Guess a numeber between 1 and 10\n",
      "you have 0 tries remaining\n",
      "**************************************************\n",
      "You're a bad guesser\n",
      "**************************************************\n"
     ]
    }
   ],
   "source": [
    "import random\n",
    "random_number = random.randint(1, 10)\n",
    "################  Shortcut=================\n",
    "# control + / = comment, and _ is used to dispose any unwanted value\n",
    "# control + ] = indent(4 spaces)\n",
    "#==========================================================\n",
    "for i in range(4):\n",
    "    guess = int(input('Enter your guess between 1 and 10 here: '))\n",
    "    if guess > 10:\n",
    "        print(\"Guess a numeber between 1 and 10\")\n",
    "    elif guess == random_number:\n",
    "        print('*'*50)\n",
    "        print(f\"HORRAY!!! You got the correct guess \")\n",
    "        print('*'*50)\n",
    "        break # here as soon as we guess correct we exit out of loop \n",
    "    #due to the  {break statement}.\n",
    "    #If we donot use break even after guessing the prpgram will give us to try to guess the number\n",
    "    elif guess > random_number:\n",
    "        print('*'*50)\n",
    "        print(\"Your guess is greater than the random number\")\n",
    "        print('*'*50)\n",
    "    elif guess < random_number:\n",
    "        print('*'*50)\n",
    "        print(\"Your guess is less than the random number\")\n",
    "        print('*'*50)\n",
    "\n",
    "    print(f\"you have {3-i} tries remaining\")\n",
    "    if i == 3:\n",
    "        print('*'*50)\n",
    "        print(\"You're a bad guesser\")\n",
    "        print('*'*50) "
   ]
  }
 ],
 "metadata": {
  "kernelspec": {
   "display_name": "Python 3.10.4 64-bit",
   "language": "python",
   "name": "python3"
  },
  "language_info": {
   "codemirror_mode": {
    "name": "ipython",
    "version": 3
   },
   "file_extension": ".py",
   "mimetype": "text/x-python",
   "name": "python",
   "nbconvert_exporter": "python",
   "pygments_lexer": "ipython3",
   "version": "3.10.4"
  },
  "orig_nbformat": 4,
  "vscode": {
   "interpreter": {
    "hash": "e027e9b9823ce6a9e0c9c877d53cd04ce062ace5f211db67d7ec11968ca34bb0"
   }
  }
 },
 "nbformat": 4,
 "nbformat_minor": 2
}
