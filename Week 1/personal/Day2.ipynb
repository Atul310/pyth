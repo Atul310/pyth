{
 "cells": [
  {
   "cell_type": "code",
   "execution_count": null,
   "metadata": {},
   "outputs": [],
   "source": []
  },
  {
   "cell_type": "markdown",
   "metadata": {},
   "source": [
    " Control Flow: conditional statements\n",
    " "
   ]
  },
  {
   "cell_type": "code",
   "execution_count": 4,
   "metadata": {},
   "outputs": [
    {
     "name": "stdout",
     "output_type": "stream",
     "text": [
      "not eligible\n"
     ]
    }
   ],
   "source": [
    "age = input(\"enter age\")\n",
    "if int(age) >= 18:          #indentation is the most \n",
    " print (\"eligible to drive\"); # if and else block is most to be indentation \n",
    "\n",
    "else:\n",
    "    print(\"not eligible\")\n",
    "# colon seperate the if else block :\n",
    "#Switch case  is the new features "
   ]
  },
  {
   "cell_type": "markdown",
   "metadata": {},
   "source": [
    "PassWOrd confirmation : Login system "
   ]
  },
  {
   "cell_type": "code",
   "execution_count": 6,
   "metadata": {},
   "outputs": [
    {
     "name": "stdout",
     "output_type": "stream",
     "text": [
      "login to system\n"
     ]
    }
   ],
   "source": [
    "username = input(\"enter username\")\n",
    "passw = input(\"enter the password\")\n",
    "if username == \"shady@\" and passw == \"WOrld\":\n",
    "    print(\"login to system\")\n",
    "elif username == \"who\" and passw == \"234asdf\": # elif use colon on last :\n",
    "  print(\"login both users satasfied\")\n",
    "else:\n",
    "    print (\"Failed to login\")\n",
    "    \n"
   ]
  },
  {
   "cell_type": "markdown",
   "metadata": {},
   "source": [
    "Loops\n"
   ]
  },
  {
   "cell_type": "code",
   "execution_count": 11,
   "metadata": {},
   "outputs": [
    {
     "name": "stdout",
     "output_type": "stream",
     "text": [
      "0\n",
      "1\n",
      "2\n",
      "3\n",
      "4\n",
      "5\n",
      "6\n",
      "7\n",
      "8\n",
      "9\n",
      "1\n",
      "2\n",
      "3\n",
      "4\n",
      "5\n",
      "6\n",
      "7\n",
      "8\n",
      "9\n",
      "10\n"
     ]
    }
   ],
   "source": [
    "#person = (\"enter name\")\n",
    "#print(\"hello\"+person)\n",
    "for a in range (10):\n",
    "    print (a)\n",
    "for i in range (1,11):# 11 is exclusive and 1 is inclusive \n",
    "    print(i)\n",
    "    # In python Iteration and  is auto generatd by python "
   ]
  },
  {
   "cell_type": "code",
   "execution_count": 21,
   "metadata": {},
   "outputs": [
    {
     "name": "stdout",
     "output_type": "stream",
     "text": [
      "0 Even\n",
      "1 odd\n",
      "2 Even\n",
      "3 odd\n",
      "4 Even\n",
      "5 odd\n",
      "6 Even\n",
      "7 odd\n",
      "8 Even\n",
      "9 odd\n"
     ]
    }
   ],
   "source": [
    "for i in range(10):\n",
    " if(i%2==0):\n",
    "    print(str(i),\"Even\")\n",
    " else :\n",
    "    print( str(i),\"odd\")\n"
   ]
  },
  {
   "cell_type": "code",
   "execution_count": 26,
   "metadata": {},
   "outputs": [
    {
     "name": "stdout",
     "output_type": "stream",
     "text": [
      "12\n",
      "10\n",
      "8\n",
      "6\n",
      "4\n",
      "2\n"
     ]
    }
   ],
   "source": [
    "for i in range (12,1,-2):\n",
    "    print (i)\n",
    "    for j in range (1,12,3): # nested statement shoudl be intended \n",
    "    \n",
    "        print(j)\n"
   ]
  },
  {
   "cell_type": "code",
   "execution_count": 3,
   "metadata": {},
   "outputs": [
    {
     "name": "stdout",
     "output_type": "stream",
     "text": [
      "2\n",
      "4\n",
      "6\n",
      "8\n",
      "10\n",
      "12\n",
      "14\n",
      "16\n",
      "18\n",
      "20\n",
      "terminateed\n"
     ]
    }
   ],
   "source": [
    "for i in range(2,21,2):\n",
    "   print(i)\n",
    "else:\n",
    "    print(\"terminateed\")  #For loop can also contain else block   "
   ]
  },
  {
   "cell_type": "markdown",
   "metadata": {},
   "source": [
    "###Nested for loop "
   ]
  },
  {
   "cell_type": "code",
   "execution_count": 6,
   "metadata": {},
   "outputs": [
    {
     "name": "stdout",
     "output_type": "stream",
     "text": [
      "Apple => Red\n",
      "Apple => yellow\n",
      "Mango => Red\n",
      "Mango => yellow\n"
     ]
    }
   ],
   "source": [
    "for i in [\"Apple\",\"Mango\"]:\n",
    "    for j in  [\"Red\",\"yellow\"]:\n",
    "        print( i ,\"=>\", j )"
   ]
  },
  {
   "cell_type": "markdown",
   "metadata": {},
   "source": [
    "+ While Loop ==>> Used to itterate over \n",
    "+ In while loop we donot know how many times to repeat\n",
    "+ whenever the condition given is false loop terminates\n"
   ]
  },
  {
   "cell_type": "code",
   "execution_count": 6,
   "metadata": {},
   "outputs": [
    {
     "name": "stdout",
     "output_type": "stream",
     "text": [
      "1\n",
      "2\n",
      "3\n",
      "4\n"
     ]
    }
   ],
   "source": [
    "x=1\n",
    "while(x<10):\n",
    "    if x==5:\n",
    "        break\n",
    "    print(x)\n",
    "    x+=1 # i-- and i++ is not possibel"
   ]
  },
  {
   "cell_type": "code",
   "execution_count": 16,
   "metadata": {},
   "outputs": [
    {
     "ename": "SyntaxError",
     "evalue": "invalid syntax (3826340752.py, line 5)",
     "output_type": "error",
     "traceback": [
      "\u001b[1;36m  Cell \u001b[1;32mIn[16], line 5\u001b[1;36m\u001b[0m\n\u001b[1;33m    print(f \"hello {name}\") # fstring in python works as like as template\u001b[0m\n\u001b[1;37m            ^\u001b[0m\n\u001b[1;31mSyntaxError\u001b[0m\u001b[1;31m:\u001b[0m invalid syntax\n"
     ]
    }
   ],
   "source": [
    "name = input(\"enter your name\")\n",
    "while name == \" \":\n",
    "    print(\"didnot enter your name\")\n",
    "    name = input(\"enter ypur name :\")\n",
    "print(f\"hello {name}\") # fstring in python works as like as template \n",
    "    #literal in js `` {}...."
   ]
  },
  {
   "cell_type": "code",
   "execution_count": 12,
   "metadata": {},
   "outputs": [
    {
     "name": "stdout",
     "output_type": "stream",
     "text": [
      "12345678\n",
      "\n",
      "12345678\n",
      "\n",
      "12345678\n",
      "\n"
     ]
    }
   ],
   "source": [
    "for x in range (3):\n",
    "    for y in range (1,9):\n",
    "        print(y, end=\"\")\n",
    "    print(\"\\n\")\n"
   ]
  }
 ],
 "metadata": {
  "kernelspec": {
   "display_name": "Python 3.10.4 64-bit",
   "language": "python",
   "name": "python3"
  },
  "language_info": {
   "codemirror_mode": {
    "name": "ipython",
    "version": 3
   },
   "file_extension": ".py",
   "mimetype": "text/x-python",
   "name": "python",
   "nbconvert_exporter": "python",
   "pygments_lexer": "ipython3",
   "version": "3.10.4 (tags/v3.10.4:9d38120, Mar 23 2022, 23:13:41) [MSC v.1929 64 bit (AMD64)]"
  },
  "orig_nbformat": 4,
  "vscode": {
   "interpreter": {
    "hash": "e027e9b9823ce6a9e0c9c877d53cd04ce062ace5f211db67d7ec11968ca34bb0"
   }
  }
 },
 "nbformat": 4,
 "nbformat_minor": 2
}
