{
 "cells": [
  {
   "cell_type": "markdown",
   "id": "afda66ff",
   "metadata": {},
   "source": [
    "# <p style=\"text-align: center;\">First Week Assignment</p>"
   ]
  },
  {
   "cell_type": "markdown",
   "id": "2982e1ab",
   "metadata": {},
   "source": [
    "## <p style=\"text-align: center;\"> A Guessing Game in Python</p>\n",
    "\n",
    "- It's going to be a simple guessing game where the computer produces a random number from 1 to 10 and the user has to guess it within 5 chances"
   ]
  },
  {
   "cell_type": "markdown",
   "id": "3d85f2f1",
   "metadata": {},
   "source": [
    "## Steps need to followed:\n",
    "\n",
    "- Our game will give user 5 attempts to guess the number\n",
    "- Inside a loop, take a input from user and store it in variable also don't forget to convert it into a integer using `int()` method\n",
    "- Then write a conditional statements.\n",
    "\n",
    "    - write a `if` statement to check the guess is lower than generated number then print `Your guess is too low`\n",
    "    \n",
    "    - Then, check if the guess is greater than generated number and print `Your guess is too high`\n",
    "    \n",
    "    - Check the guess is equal to generated number. If become equal then terminate the loop entirely using `break` keyword"
   ]
  },
  {
   "cell_type": "markdown",
   "id": "0a1cb96e",
   "metadata": {},
   "source": [
    "Verify that user has guessed the number or not. If they did, then print the message for them along with the number of tries\n",
    "\n",
    "Similarly if they couldn't guess the number at the end, print number along with message"
   ]
  },
  {
   "cell_type": "code",
   "execution_count": null,
   "id": "148746ac",
   "metadata": {},
   "outputs": [],
   "source": [
    "import random\n",
    "Random = random.randint(1, 10)\n",
    "i =0\n",
    "while(i<4):\n",
    "    numG=int(input(\"Guess here between 1 and 10\"))\n",
    "    i+=1\n",
    "    if numG == Random:\n",
    "        print('*'*50)\n",
    "        print(f\"HORRAY!!! You got the correct guess \")\n",
    "        print('*'*50)\n",
    "        break\n",
    "    elif numG>Random:\n",
    "        print('*'*50)\n",
    "        print(\"Your guess is greater than the random number\")\n",
    "        print('*'*50)\n",
    "    elif numG<Random:\n",
    "        print('*'*50)\n",
    "        print(\"Your guess is less than the random number\")\n",
    "        print('*'*50)\n",
    "    print(f\"You have  {4 -i} guess remaining\")\n",
    "    if i==4:\n",
    "     \n",
    "       print('*'*50)\n",
    "       print(\"You're a bad guesser\")\n",
    "       print('*'*50)\n",
    "       break\n",
    "       \n"
   ]
  }
 ],
 "metadata": {
  "kernelspec": {
   "display_name": "Python 3",
   "language": "python",
   "name": "python3"
  },
  "language_info": {
   "codemirror_mode": {
    "name": "ipython",
    "version": 3
   },
   "file_extension": ".py",
   "mimetype": "text/x-python",
   "name": "python",
   "nbconvert_exporter": "python",
   "pygments_lexer": "ipython3",
   "version": "3.10.4 (tags/v3.10.4:9d38120, Mar 23 2022, 23:13:41) [MSC v.1929 64 bit (AMD64)]"
  },
  "vscode": {
   "interpreter": {
    "hash": "e027e9b9823ce6a9e0c9c877d53cd04ce062ace5f211db67d7ec11968ca34bb0"
   }
  }
 },
 "nbformat": 4,
 "nbformat_minor": 5
}
