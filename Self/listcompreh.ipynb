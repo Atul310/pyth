{
 "cells": [
  {
   "attachments": {},
   "cell_type": "markdown",
   "metadata": {},
   "source": [
    "+ list Comprenhesion\n",
    "+ What is List Comprenhension?\n",
    "+ List comprehension is an easy to read, compact, and elegant way of creating a list from any existing iterable  object. Basically, it's a simpler way to create a new list from the values in a list you already have."
   ]
  },
  {
   "attachments": {},
   "cell_type": "markdown",
   "metadata": {},
   "source": [
    "+ It is generally a single line of code enclosed in square brackets. You can use it to filter, format, modify, or do other small tasks  + on existing iterables such as strings, tuples, sets, dataframes, array lists, and so on."
   ]
  }
 ],
 "metadata": {
  "kernelspec": {
   "display_name": "Python 3",
   "language": "python",
   "name": "python3"
  },
  "language_info": {
   "name": "python",
   "version": "3.10.4 (tags/v3.10.4:9d38120, Mar 23 2022, 23:13:41) [MSC v.1929 64 bit (AMD64)]"
  },
  "orig_nbformat": 4,
  "vscode": {
   "interpreter": {
    "hash": "e027e9b9823ce6a9e0c9c877d53cd04ce062ace5f211db67d7ec11968ca34bb0"
   }
  }
 },
 "nbformat": 4,
 "nbformat_minor": 2
}
